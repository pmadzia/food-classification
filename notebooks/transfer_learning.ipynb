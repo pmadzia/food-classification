{
 "cells": [
  {
   "cell_type": "markdown",
   "id": "e584ba45",
   "metadata": {},
   "source": [
    "# Transform Learning\n",
    "\n",
    "**This notebook contains uses of transfer learning to create better model for custom dataset.**"
   ]
  },
  {
   "cell_type": "markdown",
   "id": "b3dd92fb",
   "metadata": {},
   "source": [
    "### Imports"
   ]
  },
  {
   "cell_type": "code",
   "execution_count": 65,
   "id": "7fa18292",
   "metadata": {},
   "outputs": [],
   "source": [
    "import sys\n",
    "sys.path.insert(0, '../scripts')\n",
    "\n",
    "import matplotlib.pyplot as plt\n",
    "import torch\n",
    "import torchvision\n",
    "from torchinfo import summary\n",
    "from scripts.data_setup import create_dataloaders\n",
    "from pathlib import Path\n",
    "import zipfile"
   ]
  },
  {
   "cell_type": "markdown",
   "id": "820df204",
   "metadata": {},
   "source": [
    "### Device agnostic code"
   ]
  },
  {
   "cell_type": "code",
   "execution_count": 66,
   "id": "d221620b",
   "metadata": {},
   "outputs": [
    {
     "data": {
      "text/plain": [
       "'cpu'"
      ]
     },
     "execution_count": 66,
     "metadata": {},
     "output_type": "execute_result"
    }
   ],
   "source": [
    "device = 'cuda' if torch.cuda.is_available() else 'cpu'\n",
    "device"
   ]
  },
  {
   "cell_type": "markdown",
   "id": "fe7f9d90",
   "metadata": {},
   "source": [
    "### Getting data"
   ]
  },
  {
   "cell_type": "code",
   "execution_count": 67,
   "id": "409128b9",
   "metadata": {},
   "outputs": [],
   "source": [
    "data_name = 'baklava_churros_cheesecake'\n",
    "data_path = Path('../data/processed')\n",
    "images_path = data_path / data_name\n",
    "zip_path = Path(str(images_path) + '.zip')\n",
    "\n",
    "if not images_path.is_dir():\n",
    "    images_path.mkdir(parents=True, exist_ok=True)\n",
    "    if zip_path.exists():\n",
    "        with zipfile.ZipFile(zip_path, 'r') as zip:\n",
    "            zip.extractall(images_path)\n",
    "    else:\n",
    "        print(f'{data_name} is wrong name or custom dataset was not created.\\n'\n",
    "              'Use custom dataset notebook to create dataset.')\n",
    "        images_path.rmdir()\n",
    "\n",
    "train_dir = images_path / 'train'\n",
    "test_dir = images_path / 'test'"
   ]
  },
  {
   "cell_type": "markdown",
   "id": "b1b1b3af",
   "metadata": {},
   "source": [
    "### Creating DataLoaders"
   ]
  },
  {
   "cell_type": "code",
   "execution_count": 68,
   "id": "d63c319d",
   "metadata": {},
   "outputs": [],
   "source": [
    "weights = torchvision.models.EfficientNet_B0_Weights.DEFAULT\n",
    "transforms = weights.transforms()\n",
    "\n",
    "train_dataloader, test_dataloader, class_names = create_dataloaders(train_dir=train_dir,\n",
    "                                                                    test_dir=test_dir,\n",
    "                                                                    transform=transforms,\n",
    "                                                                    batch_size=32)"
   ]
  }
 ],
 "metadata": {
  "kernelspec": {
   "display_name": ".env",
   "language": "python",
   "name": "python3"
  },
  "language_info": {
   "codemirror_mode": {
    "name": "ipython",
    "version": 3
   },
   "file_extension": ".py",
   "mimetype": "text/x-python",
   "name": "python",
   "nbconvert_exporter": "python",
   "pygments_lexer": "ipython3",
   "version": "3.13.4"
  }
 },
 "nbformat": 4,
 "nbformat_minor": 5
}
